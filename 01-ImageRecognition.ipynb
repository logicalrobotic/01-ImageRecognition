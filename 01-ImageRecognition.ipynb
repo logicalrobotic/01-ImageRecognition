{
 "cells": [
  {
   "cell_type": "code",
   "execution_count": 2,
   "metadata": {},
   "outputs": [
    {
     "name": "stdout",
     "output_type": "stream",
     "text": [
      "Using matplotlib backend: TkAgg\n"
     ]
    },
    {
     "name": "stderr",
     "output_type": "stream",
     "text": [
      "C:\\Users\\Martin\\anaconda3\\envs\\gpu1\\lib\\site-packages\\ipykernel\\eventloops.py:256: RuntimeWarning: coroutine 'Kernel.do_one_iteration' was never awaited\n",
      "  self.func()\n",
      "RuntimeWarning: Enable tracemalloc to get the object allocation traceback\n",
      "Traceback (most recent call last):\n",
      "  File \"C:\\Users\\Martin\\anaconda3\\envs\\gpu1\\lib\\site-packages\\matplotlib\\cbook\\__init__.py\", line 270, in process\n",
      "    func(*args, **kwargs)\n",
      "  File \"C:\\Users\\Martin\\anaconda3\\envs\\gpu1\\lib\\site-packages\\matplotlib\\animation.py\", line 991, in _start\n",
      "    self._init_draw()\n",
      "  File \"C:\\Users\\Martin\\anaconda3\\envs\\gpu1\\lib\\site-packages\\matplotlib\\animation.py\", line 1753, in _init_draw\n",
      "    self._draw_frame(next(self.new_frame_seq()))\n",
      "  File \"C:\\Users\\Martin\\anaconda3\\envs\\gpu1\\lib\\site-packages\\matplotlib\\animation.py\", line 1776, in _draw_frame\n",
      "    self._drawn_artists = self._func(framedata, *self._args)\n",
      "  File \"C:\\Users\\Martin\\AppData\\Local\\Temp/ipykernel_836/237480252.py\", line 32, in update\n",
      "    assert ret\n",
      "AssertionError\n",
      "Traceback (most recent call last):\n",
      "  File \"C:\\Users\\Martin\\anaconda3\\envs\\gpu1\\lib\\site-packages\\matplotlib\\cbook\\__init__.py\", line 270, in process\n",
      "    func(*args, **kwargs)\n",
      "  File \"C:\\Users\\Martin\\anaconda3\\envs\\gpu1\\lib\\site-packages\\matplotlib\\animation.py\", line 1291, in _on_resize\n",
      "    self._init_draw()\n",
      "  File \"C:\\Users\\Martin\\anaconda3\\envs\\gpu1\\lib\\site-packages\\matplotlib\\animation.py\", line 1753, in _init_draw\n",
      "    self._draw_frame(next(self.new_frame_seq()))\n",
      "  File \"C:\\Users\\Martin\\anaconda3\\envs\\gpu1\\lib\\site-packages\\matplotlib\\animation.py\", line 1776, in _draw_frame\n",
      "    self._drawn_artists = self._func(framedata, *self._args)\n",
      "  File \"C:\\Users\\Martin\\AppData\\Local\\Temp/ipykernel_836/237480252.py\", line 32, in update\n",
      "    assert ret\n",
      "AssertionError\n"
     ]
    }
   ],
   "source": [
    "%matplotlib\n",
    "import numpy as np\n",
    "import matplotlib.pyplot as plt\n",
    "from matplotlib.animation import FuncAnimation\n",
    "import cv2\n",
    "from tensorflow.keras.applications import mobilenet_v2\n",
    "import time\n",
    "\n",
    "# Set up figure\n",
    "fig, ax = plt.subplots()\n",
    "vid = plt.imshow(np.ones((224,224,3)))\n",
    "lbl = plt.text(5, 20, \"Loading...\", size=20)\n",
    "lbl.set_bbox({'facecolor':'white', 'alpha':0.5})\n",
    "ax.set_axis_off()\n",
    "plt.ion()\n",
    "plt.show()\n",
    "\n",
    "list = []\n",
    "global list\n",
    "\n",
    "# Set up neural network\n",
    "model = mobilenet_v2.MobileNetV2(weights='imagenet')\n",
    "\n",
    "# Set up video capture\n",
    "cap = cv2.VideoCapture(0)\n",
    "fig.canvas.mpl_connect('close_event', lambda evt : cap.release())\n",
    "\n",
    "# Function to call for each frame\n",
    "def update(i):\n",
    "    # Capture frame from webcam\n",
    "    ret, frame_bgr = cap.read()\n",
    "    assert ret\n",
    "    frame = cv2.cvtColor(frame_bgr, cv2.COLOR_BGR2RGB)    \n",
    "    min_dim = np.min(frame.shape[0:2])\n",
    "    frame = cv2.resize(frame[0:min_dim, 0:min_dim, :], (224, 224))\n",
    "    vid.set_data(frame)\n",
    "\n",
    "    # Update classification\n",
    "    processed_image = mobilenet_v2.preprocess_input(np.expand_dims(frame, axis=0))\n",
    "    predictions = model.predict(processed_image)\n",
    "    label = mobilenet_v2.decode_predictions(predictions)\n",
    "    lbl.set_text(label[0][0][1])\n",
    "    \n",
    "    if len(list) < 30:\n",
    "        if label[0][0][1] == \"toilet_tissue\" or label[0][0][1] == \"toilet_paper\" or \"toilet_tissue\" in list or \"toilet_paper\" in list:\n",
    "            list.append(label[0][0][1])\n",
    "    if len(list) > 19 and len(list) < 21:\n",
    "        print(list)\n",
    "        \n",
    "    return vid, lbl\n",
    "\n",
    "\n",
    "# Run animation loop\n",
    "ani = FuncAnimation(fig, update, blit=True, interval=100)"
   ]
  },
  {
   "cell_type": "code",
   "execution_count": null,
   "metadata": {},
   "outputs": [],
   "source": []
  },
  {
   "cell_type": "code",
   "execution_count": null,
   "metadata": {},
   "outputs": [],
   "source": []
  }
 ],
 "metadata": {
  "kernelspec": {
   "display_name": "gpu1",
   "language": "python",
   "name": "gpu1"
  },
  "language_info": {
   "codemirror_mode": {
    "name": "ipython",
    "version": 3
   },
   "file_extension": ".py",
   "mimetype": "text/x-python",
   "name": "python",
   "nbconvert_exporter": "python",
   "pygments_lexer": "ipython3",
   "version": "3.9.6"
  }
 },
 "nbformat": 4,
 "nbformat_minor": 4
}
