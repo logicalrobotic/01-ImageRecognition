{
 "cells": [
  {
   "cell_type": "code",
   "execution_count": null,
   "id": "181e11bd",
   "metadata": {},
   "outputs": [],
   "source": [
    "import numpy as np\n",
    "import matplotlib.pyplot as plt\n",
    "from matplotlib.animation import FuncAnimation\n",
    "import cv2\n",
    "from tensorflow.keras.applications import mobilenet_v2\n",
    "import time\n",
    "\n",
    "# Set up figure\n",
    "fig, ax = plt.subplots()\n",
    "vid = plt.imshow(np.ones((224,224,3)))\n",
    "lbl = plt.text(5, 20, \"Loading...\", size=20)\n",
    "lbl.set_bbox({'facecolor':'white', 'alpha':0.5})\n",
    "ax.set_axis_off()\n",
    "plt.ion()\n",
    "plt.show()\n",
    "\n",
    "list = []\n",
    "global list\n",
    "\n",
    "# Set up neural network\n",
    "model = mobilenet_v2.MobileNetV2(weights='imagenet')\n",
    "\n",
    "# Set up video capture\n",
    "cap = cv2.VideoCapture(0)\n",
    "fig.canvas.mpl_connect('close_event', lambda evt : cap.release())\n",
    "\n",
    "# Function to call for each frame\n",
    "def update(i):\n",
    "    # Capture frame from webcam\n",
    "    ret, frame_bgr = cap.read()\n",
    "    assert ret\n",
    "    frame = cv2.cvtColor(frame_bgr, cv2.COLOR_BGR2RGB)    \n",
    "    min_dim = np.min(frame.shape[0:2])\n",
    "    frame = cv2.resize(frame[0:min_dim, 0:min_dim, :], (224, 224))\n",
    "    vid.set_data(frame)\n",
    "\n",
    "    # Update classification\n",
    "    processed_image = mobilenet_v2.preprocess_input(np.expand_dims(frame, axis=0))\n",
    "    predictions = model.predict(processed_image)\n",
    "    label = mobilenet_v2.decode_predictions(predictions)\n",
    "    lbl.set_text(label[0][0][1])\n",
    "    \n",
    "    if len(list) < 30:\n",
    "        if label[0][0][1] == \"toilet_tissue\" or label[0][0][1] == \"toilet_paper\" or \"toilet_tissue\" in list or \"toilet_paper\" in list:\n",
    "            list.append(label[0][0][1])\n",
    "    if len(list) > 19 and len(list) < 21:\n",
    "        print(list)\n",
    "        \n",
    "    return vid, lbl\n",
    "\n",
    "\n",
    "# Run animation loop\n",
    "ani = FuncAnimation(fig, update, blit=True, interval=100)"
   ]
  }
 ],
 "metadata": {
  "kernelspec": {
   "display_name": "gpu1",
   "language": "python",
   "name": "gpu1"
  },
  "language_info": {
   "codemirror_mode": {
    "name": "ipython",
    "version": 3
   },
   "file_extension": ".py",
   "mimetype": "text/x-python",
   "name": "python",
   "nbconvert_exporter": "python",
   "pygments_lexer": "ipython3",
   "version": "3.9.6"
  }
 },
 "nbformat": 4,
 "nbformat_minor": 5
}
